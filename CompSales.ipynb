{
 "cells": [
  {
   "cell_type": "markdown",
   "metadata": {},
   "source": [
    "In Python (and in R too), in this context operating with data like that, the main object/concept is the DataFrame.\n",
    "DataFrame is essentially the same as table in SQL database: a 2D table with Rows (corresponding to records) and\n",
    "columns (also known as fields or variables) that can be of any type (text, number, boolean etc.).\n",
    "In Python, the most popular and the most supported package for operating the DataFrames is calles `Pandas`.\n",
    "So the first thing we do is import it"
   ]
  },
  {
   "cell_type": "code",
   "execution_count": 1,
   "metadata": {},
   "outputs": [],
   "source": [
    "import pandas as pd"
   ]
  },
  {
   "cell_type": "markdown",
   "metadata": {},
   "source": [
    "The `as pd` allows to use `pd` as shortcut further on, and in the case of `Pandas` it's conventional. I have\n",
    "my data saved on the local disk as `zillowcomps.csv`"
   ]
  },
  {
   "cell_type": "code",
   "execution_count": 4,
   "metadata": {},
   "outputs": [],
   "source": [
    "zillow = pd.read_csv('zillowcomps.csv')\n",
    "redfin = pd.read_csv('redfincomps.csv')    "
   ]
  },
  {
   "cell_type": "markdown",
   "metadata": {},
   "source": [
    "Let's look at first 5 rows:"
   ]
  },
  {
   "cell_type": "code",
   "execution_count": 5,
   "metadata": {},
   "outputs": [
    {
     "name": "stdout",
     "output_type": "stream",
     "text": [
      "   Unnamed: 0                 Address      Sold  BR   BA    Lot  YearBuilt  \\\n",
      "0           0   9306 RHODE ISLAND Ave  $279,945   4  2.0  7,248       1986   \n",
      "1           1            9727 51st Pl  $334,000   4  2.0  5,501       1950   \n",
      "2           2            9010 50th Pl  $303,000   4  1.5  5,597       1973   \n",
      "3           3  9702 Narragansett Pkwy  $325,000   4  2.5  5,928       1964   \n",
      "4           4        5007 Iroquois St  $285,000   3  2.0  5,000       1961   \n",
      "\n",
      "   Estimate                                               Link  \n",
      "0       NaN  https://www.zillow.com/homes/9306-rhode-island...  \n",
      "1  $335,092        https://www.zillow.com/homes/9727-51-pl_rb/  \n",
      "2  $301,068      https://www.zillow.com/homes/9010-50th-Pl_rb/  \n",
      "3  $330,824  https://www.zillow.com/homes/9702-Narragansett...  \n",
      "4  $293,851  https://www.zillow.com/homedetails/5007-Iroquo...  \n"
     ]
    }
   ],
   "source": [
    "print(zillow[:5])"
   ]
  },
  {
   "cell_type": "code",
   "execution_count": 6,
   "metadata": {},
   "outputs": [
    {
     "name": "stdout",
     "output_type": "stream",
     "text": [
      "Index(['Unnamed: 0', 'Address', 'Sold', 'BR', 'BA', 'Lot', 'YearBuilt',\n",
      "       'Estimate', 'Link'],\n",
      "      dtype='object')\n",
      "Index(['Unnamed: 0', 'Address', 'Sold', 'SQFT', 'DateSold', 'Estimate', 'Link',\n",
      "       'InWorksheet'],\n",
      "      dtype='object')\n"
     ]
    }
   ],
   "source": [
    "print(zillow.columns)\n",
    "print(redfin.columns)"
   ]
  },
  {
   "cell_type": "markdown",
   "metadata": {},
   "source": [
    "So, to join, we do (and, of course, I did not remember it, and read it in Pandas manual on the \n",
    "page https://pandas.pydata.org/pandas-docs/stable/reference/api/pandas.DataFrame.join.html where I got \n",
    "by Googling \"pandas join\")"
   ]
  },
  {
   "cell_type": "code",
   "execution_count": 7,
   "metadata": {},
   "outputs": [
    {
     "name": "stdout",
     "output_type": "stream",
     "text": [
      "   Unnamed: 0                 Address      Sold  BR   BA    Lot  YearBuilt  \\\n",
      "0           0   9306 RHODE ISLAND Ave  $279,945   4  2.0  7,248       1986   \n",
      "1           1            9727 51st Pl  $334,000   4  2.0  5,501       1950   \n",
      "2           2            9010 50th Pl  $303,000   4  1.5  5,597       1973   \n",
      "3           3  9702 Narragansett Pkwy  $325,000   4  2.5  5,928       1964   \n",
      "4           4        5007 Iroquois St  $285,000   3  2.0  5,000       1961   \n",
      "\n",
      "   Estimate                                               Link  Unnamed: 0_r  \\\n",
      "0       NaN  https://www.zillow.com/homes/9306-rhode-island...             0   \n",
      "1  $335,092        https://www.zillow.com/homes/9727-51-pl_rb/             1   \n",
      "2  $301,068      https://www.zillow.com/homes/9010-50th-Pl_rb/             2   \n",
      "3  $330,824  https://www.zillow.com/homes/9702-Narragansett...             3   \n",
      "4  $293,851  https://www.zillow.com/homedetails/5007-Iroquo...             4   \n",
      "\n",
      "     Sold_r   SQFT  DateSold Estimate_r  \\\n",
      "0  $279,945  1,232  10/26/18   $374,424   \n",
      "1  $334,000  1,176   1/28/19   $347,308   \n",
      "2  $303,000  1,180  11/23/18   $328,600   \n",
      "3  $325,000  1,078    6/8/18   $362,718   \n",
      "4  $285,000  1,760  10/29/18   $368,991   \n",
      "\n",
      "                                              Link_r InWorksheet  \n",
      "0  https://www.redfin.com/MD/College-Park/9306-Rh...           N  \n",
      "1  https://www.redfin.com/MD/College-Park/9727-51...           N  \n",
      "2  https://www.redfin.com/MD/College-Park/9010-50...           N  \n",
      "3  https://www.redfin.com/MD/College-Park/9702-Na...           N  \n",
      "4  https://www.redfin.com/MD/College-Park/5007-Ir...           N  \n"
     ]
    }
   ],
   "source": [
    "comps = zillow.join(redfin.set_index(\"Address\"), on=\"Address\", rsuffix=\"_r\")\n",
    "print(comps[:5])"
   ]
  },
  {
   "cell_type": "markdown",
   "metadata": {},
   "source": [
    "Selecting only columns that we need, and rename some (I looked up the renaming since I don't remember):"
   ]
  },
  {
   "cell_type": "code",
   "execution_count": 9,
   "metadata": {},
   "outputs": [
    {
     "name": "stdout",
     "output_type": "stream",
     "text": [
      "                  Address      Sold  BR   BA    Lot  YearBuilt Zestimate  \\\n",
      "0   9306 RHODE ISLAND Ave  $279,945   4  2.0  7,248       1986       NaN   \n",
      "1            9727 51st Pl  $334,000   4  2.0  5,501       1950  $335,092   \n",
      "2            9010 50th Pl  $303,000   4  1.5  5,597       1973  $301,068   \n",
      "3  9702 Narragansett Pkwy  $325,000   4  2.5  5,928       1964  $330,824   \n",
      "4        5007 Iroquois St  $285,000   3  2.0  5,000       1961  $293,851   \n",
      "\n",
      "     Sold_r   SQFT  DateSold RedFinEstimate InWorksheet  \n",
      "0  $279,945  1,232  10/26/18       $374,424           N  \n",
      "1  $334,000  1,176   1/28/19       $347,308           N  \n",
      "2  $303,000  1,180  11/23/18       $328,600           N  \n",
      "3  $325,000  1,078    6/8/18       $362,718           N  \n",
      "4  $285,000  1,760  10/29/18       $368,991           N  \n"
     ]
    }
   ],
   "source": [
    "comps = comps[['Address','Sold','BR','BA','Lot','YearBuilt','Estimate','Sold_r','SQFT','DateSold','Estimate_r','InWorksheet']]\n",
    "comps = comps.rename(index=str, columns = {\"Estimate\":\"Zestimate\", \"Estimate_r\":\"RedFinEstimate\"})\n",
    "print(comps[:5])"
   ]
  },
  {
   "cell_type": "markdown",
   "metadata": {},
   "source": [
    "# _TO BE CONTINUED!!!_"
   ]
  }
 ],
 "metadata": {
  "kernelspec": {
   "display_name": "Python 3",
   "language": "python",
   "name": "python3"
  },
  "language_info": {
   "codemirror_mode": {
    "name": "ipython",
    "version": 3
   },
   "file_extension": ".py",
   "mimetype": "text/x-python",
   "name": "python",
   "nbconvert_exporter": "python",
   "pygments_lexer": "ipython3",
   "version": "3.6.3"
  }
 },
 "nbformat": 4,
 "nbformat_minor": 2
}
